{
  "nbformat": 4,
  "nbformat_minor": 0,
  "metadata": {
    "colab": {
      "name": "walk-forward.ipynb",
      "provenance": [],
      "authorship_tag": "ABX9TyP9GHbA8YXL8P5bG7atAMzT",
      "include_colab_link": true
    },
    "kernelspec": {
      "name": "python3",
      "display_name": "Python 3"
    },
    "language_info": {
      "name": "python"
    }
  },
  "cells": [
    {
      "cell_type": "markdown",
      "metadata": {
        "id": "view-in-github",
        "colab_type": "text"
      },
      "source": [
        "<a href=\"https://colab.research.google.com/github/kamilafariasg/walk-forward-times-series/blob/main/walk_forward.ipynb\" target=\"_parent\"><img src=\"https://colab.research.google.com/assets/colab-badge.svg\" alt=\"Open In Colab\"/></a>"
      ]
    },
    {
      "cell_type": "markdown",
      "metadata": {
        "id": "HKdLK5nvMHR7"
      },
      "source": [
        "# **Aplicando o Walk Forward na Base de Dados Champagne.**"
      ]
    },
    {
      "cell_type": "markdown",
      "metadata": {
        "id": "gqI1MSw_MpsD"
      },
      "source": [
        "### **Importando Bibliotecas**"
      ]
    },
    {
      "cell_type": "code",
      "metadata": {
        "id": "AVsseocuLZpN"
      },
      "source": [
        "from math import sqrt\n",
        "from pandas import read_csv\n",
        "import pandas as pd\n",
        "from matplotlib import pyplot\n",
        "from numpy import mean\n",
        "from sklearn.metrics import mean_squared_error\n",
        "import matplotlib.pyplot as plt\n",
        "import plotly\n"
      ],
      "execution_count": 102,
      "outputs": []
    },
    {
      "cell_type": "markdown",
      "metadata": {
        "id": "uBIX-_DyMs7i"
      },
      "source": [
        "### **Preparando Drive**"
      ]
    },
    {
      "cell_type": "code",
      "metadata": {
        "colab": {
          "base_uri": "https://localhost:8080/"
        },
        "id": "uOmF0JXLMWV_",
        "outputId": "c373b4a5-5c91-4705-ea92-b8c3ff4096a9"
      },
      "source": [
        "\n",
        "from google.colab import drive\n",
        "drive.mount('/content/drive')"
      ],
      "execution_count": 3,
      "outputs": [
        {
          "output_type": "stream",
          "text": [
            "Mounted at /content/drive\n"
          ],
          "name": "stdout"
        }
      ]
    },
    {
      "cell_type": "markdown",
      "metadata": {
        "id": "Q62-s3fuMgMT"
      },
      "source": [
        "### **Lendo Base de Dados**"
      ]
    },
    {
      "cell_type": "code",
      "metadata": {
        "colab": {
          "base_uri": "https://localhost:8080/"
        },
        "id": "Mp5hIcDdMg48",
        "outputId": "e556e286-4dfe-436c-b812-e05af28ea94a"
      },
      "source": [
        "dataset = pd.read_csv(\"/content/drive/My Drive/dataset/champagne.csv\")\n",
        "dataset.info()"
      ],
      "execution_count": 8,
      "outputs": [
        {
          "output_type": "stream",
          "text": [
            "<class 'pandas.core.frame.DataFrame'>\n",
            "RangeIndex: 105 entries, 0 to 104\n",
            "Data columns (total 2 columns):\n",
            " #   Column  Non-Null Count  Dtype \n",
            "---  ------  --------------  ----- \n",
            " 0   Month   105 non-null    object\n",
            " 1   Sales   105 non-null    int64 \n",
            "dtypes: int64(1), object(1)\n",
            "memory usage: 1.8+ KB\n"
          ],
          "name": "stdout"
        }
      ]
    },
    {
      "cell_type": "markdown",
      "metadata": {
        "id": "Y1_wnYX_M8GK"
      },
      "source": [
        "### **Análise de Dados**"
      ]
    },
    {
      "cell_type": "markdown",
      "metadata": {
        "id": "-IqWOJoTTPTO"
      },
      "source": [
        "É mostrado que existem 105 observações e 2 colunas."
      ]
    },
    {
      "cell_type": "code",
      "metadata": {
        "colab": {
          "base_uri": "https://localhost:8080/"
        },
        "id": "C87Q1BF_Sv6w",
        "outputId": "3d2a90b4-55cd-4f5c-d90d-e63ab3307005"
      },
      "source": [
        "dataset.shape"
      ],
      "execution_count": 9,
      "outputs": [
        {
          "output_type": "execute_result",
          "data": {
            "text/plain": [
              "(105, 2)"
            ]
          },
          "metadata": {
            "tags": []
          },
          "execution_count": 9
        }
      ]
    },
    {
      "cell_type": "markdown",
      "metadata": {
        "id": "xcwdBAWXTgq7"
      },
      "source": [
        "Amostra da base de dados."
      ]
    },
    {
      "cell_type": "code",
      "metadata": {
        "colab": {
          "base_uri": "https://localhost:8080/",
          "height": 359
        },
        "id": "62buIEPYTUEE",
        "outputId": "a8f9dfef-aac6-4a32-a281-9fcea67053f3"
      },
      "source": [
        "dataset.head(10)"
      ],
      "execution_count": 10,
      "outputs": [
        {
          "output_type": "execute_result",
          "data": {
            "text/html": [
              "<div>\n",
              "<style scoped>\n",
              "    .dataframe tbody tr th:only-of-type {\n",
              "        vertical-align: middle;\n",
              "    }\n",
              "\n",
              "    .dataframe tbody tr th {\n",
              "        vertical-align: top;\n",
              "    }\n",
              "\n",
              "    .dataframe thead th {\n",
              "        text-align: right;\n",
              "    }\n",
              "</style>\n",
              "<table border=\"1\" class=\"dataframe\">\n",
              "  <thead>\n",
              "    <tr style=\"text-align: right;\">\n",
              "      <th></th>\n",
              "      <th>Month</th>\n",
              "      <th>Sales</th>\n",
              "    </tr>\n",
              "  </thead>\n",
              "  <tbody>\n",
              "    <tr>\n",
              "      <th>0</th>\n",
              "      <td>1964-01</td>\n",
              "      <td>2815</td>\n",
              "    </tr>\n",
              "    <tr>\n",
              "      <th>1</th>\n",
              "      <td>1964-02</td>\n",
              "      <td>2672</td>\n",
              "    </tr>\n",
              "    <tr>\n",
              "      <th>2</th>\n",
              "      <td>1964-03</td>\n",
              "      <td>2755</td>\n",
              "    </tr>\n",
              "    <tr>\n",
              "      <th>3</th>\n",
              "      <td>1964-04</td>\n",
              "      <td>2721</td>\n",
              "    </tr>\n",
              "    <tr>\n",
              "      <th>4</th>\n",
              "      <td>1964-05</td>\n",
              "      <td>2946</td>\n",
              "    </tr>\n",
              "    <tr>\n",
              "      <th>5</th>\n",
              "      <td>1964-06</td>\n",
              "      <td>3036</td>\n",
              "    </tr>\n",
              "    <tr>\n",
              "      <th>6</th>\n",
              "      <td>1964-07</td>\n",
              "      <td>2282</td>\n",
              "    </tr>\n",
              "    <tr>\n",
              "      <th>7</th>\n",
              "      <td>1964-08</td>\n",
              "      <td>2212</td>\n",
              "    </tr>\n",
              "    <tr>\n",
              "      <th>8</th>\n",
              "      <td>1964-09</td>\n",
              "      <td>2922</td>\n",
              "    </tr>\n",
              "    <tr>\n",
              "      <th>9</th>\n",
              "      <td>1964-10</td>\n",
              "      <td>4301</td>\n",
              "    </tr>\n",
              "  </tbody>\n",
              "</table>\n",
              "</div>"
            ],
            "text/plain": [
              "     Month  Sales\n",
              "0  1964-01   2815\n",
              "1  1964-02   2672\n",
              "2  1964-03   2755\n",
              "3  1964-04   2721\n",
              "4  1964-05   2946\n",
              "5  1964-06   3036\n",
              "6  1964-07   2282\n",
              "7  1964-08   2212\n",
              "8  1964-09   2922\n",
              "9  1964-10   4301"
            ]
          },
          "metadata": {
            "tags": []
          },
          "execution_count": 10
        }
      ]
    },
    {
      "cell_type": "markdown",
      "metadata": {
        "id": "k8Tri_mLUELN"
      },
      "source": [
        "Verificando quantidade de informações nulas"
      ]
    },
    {
      "cell_type": "code",
      "metadata": {
        "colab": {
          "base_uri": "https://localhost:8080/"
        },
        "id": "voofFbJQUAEk",
        "outputId": "1f5d3156-bd43-4f76-9437-ba5d22643819"
      },
      "source": [
        "dataset.isnull().sum()"
      ],
      "execution_count": 11,
      "outputs": [
        {
          "output_type": "execute_result",
          "data": {
            "text/plain": [
              "Month    0\n",
              "Sales    0\n",
              "dtype: int64"
            ]
          },
          "metadata": {
            "tags": []
          },
          "execution_count": 11
        }
      ]
    },
    {
      "cell_type": "markdown",
      "metadata": {
        "id": "VugWzQ0KUc0S"
      },
      "source": [
        "Verifica que não há dados duplicados"
      ]
    },
    {
      "cell_type": "code",
      "metadata": {
        "colab": {
          "base_uri": "https://localhost:8080/"
        },
        "id": "5NMvdtQdUTft",
        "outputId": "afe21141-3d03-495c-eb0c-8c3dadf68a95"
      },
      "source": [
        "len(dataset.duplicated())"
      ],
      "execution_count": 12,
      "outputs": [
        {
          "output_type": "execute_result",
          "data": {
            "text/plain": [
              "105"
            ]
          },
          "metadata": {
            "tags": []
          },
          "execution_count": 12
        }
      ]
    },
    {
      "cell_type": "markdown",
      "metadata": {
        "id": "7aDyjVQnUISY"
      },
      "source": [
        "Visão geral das séries numéricas"
      ]
    },
    {
      "cell_type": "code",
      "metadata": {
        "colab": {
          "base_uri": "https://localhost:8080/",
          "height": 297
        },
        "id": "YyFlWD31UkJm",
        "outputId": "c9f184be-683b-41ce-c279-ce038d1d44ac"
      },
      "source": [
        "dataset.describe()"
      ],
      "execution_count": 13,
      "outputs": [
        {
          "output_type": "execute_result",
          "data": {
            "text/html": [
              "<div>\n",
              "<style scoped>\n",
              "    .dataframe tbody tr th:only-of-type {\n",
              "        vertical-align: middle;\n",
              "    }\n",
              "\n",
              "    .dataframe tbody tr th {\n",
              "        vertical-align: top;\n",
              "    }\n",
              "\n",
              "    .dataframe thead th {\n",
              "        text-align: right;\n",
              "    }\n",
              "</style>\n",
              "<table border=\"1\" class=\"dataframe\">\n",
              "  <thead>\n",
              "    <tr style=\"text-align: right;\">\n",
              "      <th></th>\n",
              "      <th>Sales</th>\n",
              "    </tr>\n",
              "  </thead>\n",
              "  <tbody>\n",
              "    <tr>\n",
              "      <th>count</th>\n",
              "      <td>105.000000</td>\n",
              "    </tr>\n",
              "    <tr>\n",
              "      <th>mean</th>\n",
              "      <td>4761.152381</td>\n",
              "    </tr>\n",
              "    <tr>\n",
              "      <th>std</th>\n",
              "      <td>2553.502601</td>\n",
              "    </tr>\n",
              "    <tr>\n",
              "      <th>min</th>\n",
              "      <td>1413.000000</td>\n",
              "    </tr>\n",
              "    <tr>\n",
              "      <th>25%</th>\n",
              "      <td>3113.000000</td>\n",
              "    </tr>\n",
              "    <tr>\n",
              "      <th>50%</th>\n",
              "      <td>4217.000000</td>\n",
              "    </tr>\n",
              "    <tr>\n",
              "      <th>75%</th>\n",
              "      <td>5221.000000</td>\n",
              "    </tr>\n",
              "    <tr>\n",
              "      <th>max</th>\n",
              "      <td>13916.000000</td>\n",
              "    </tr>\n",
              "  </tbody>\n",
              "</table>\n",
              "</div>"
            ],
            "text/plain": [
              "              Sales\n",
              "count    105.000000\n",
              "mean    4761.152381\n",
              "std     2553.502601\n",
              "min     1413.000000\n",
              "25%     3113.000000\n",
              "50%     4217.000000\n",
              "75%     5221.000000\n",
              "max    13916.000000"
            ]
          },
          "metadata": {
            "tags": []
          },
          "execution_count": 13
        }
      ]
    },
    {
      "cell_type": "markdown",
      "metadata": {
        "id": "Z2-uAmrdVNMF"
      },
      "source": [
        "Distribuição dos dados"
      ]
    },
    {
      "cell_type": "code",
      "metadata": {
        "colab": {
          "base_uri": "https://localhost:8080/",
          "height": 646
        },
        "id": "Dgi0o1qXUxdr",
        "outputId": "014cff66-92d1-49a0-e04e-167c04ba7517"
      },
      "source": [
        "plt.figure(figsize=(20,10))\n",
        "dataset[\"Sales\"].plot()\n",
        "plt.xlabel('Períodos',size=15)\n",
        "plt.title('Série de vendas de champagne ',size=15)\n"
      ],
      "execution_count": 96,
      "outputs": [
        {
          "output_type": "execute_result",
          "data": {
            "text/plain": [
              "Text(0.5, 1.0, 'Série de vendas de champagne ')"
            ]
          },
          "metadata": {
            "tags": []
          },
          "execution_count": 96
        },
        {
          "output_type": "display_data",
          "data": {
            "image/png": "[encoded data removed]",
            "text/plain": [
              "<Figure size 1440x720 with 1 Axes>"
            ]
          },
          "metadata": {
            "tags": [],
            "needs_background": "light"
          }
        }
      ]
    },
    {
      "cell_type": "code",
      "metadata": {
        "colab": {
          "base_uri": "https://localhost:8080/"
        },
        "id": "mcRXB1MDRTAR",
        "outputId": "458a2dbd-cd9c-4ff5-b285-e4907ec10853"
      },
      "source": [
        "# Define a variável window = 3 que será a janela de 3 valores:\n",
        "window = 17\n",
        "\n",
        "# Obtém os 3 primeiros valores da serie:\n",
        "history = [series.Sales[i] for i in range(window)]\n",
        "\n",
        "# Obtém todos os valores após os tres primeiros:\n",
        "test = [series.Sales[i] for i in range(window, len(series.Sales))]\n",
        "\n",
        "# Cria lista de predições:\n",
        "predicoes = []\n",
        "\n",
        "# percorre sobre os dados de teste...\n",
        "\n",
        "for t in range(len(test)):\n",
        "  # Define a variável length com o tamanho da variável history:\n",
        "  length = len(history)\n",
        "  \n",
        "  # Define a variável valor_predito com a média dos 3 valores correntes..                                                           \n",
        "  valor_predito = mean([history[i] for i in range(length - window, length)])        \n",
        "  \n",
        "  # Define a variável valor_real com o valor atual do teste..\n",
        "  valor_real = test[t]                                                              \n",
        "  \n",
        "  # Alimenta a lista de predições:\n",
        "  predicoes.append(valor_predito)                                                  \n",
        "  \n",
        "  # Atualiza a lista history com os valores correntes..\n",
        "  history.append(valor_real)                                                        \n",
        "  \n",
        "  # Imprime o valor predito e o real...\n",
        "  print('Valor predito=%f, Valor real=%f' % (valor_predito, valor_real))  "
      ],
      "execution_count": 97,
      "outputs": [
        {
          "output_type": "stream",
          "text": [
            "Valor predito=3342.764706, Valor real=3230.000000\n",
            "Valor predito=3367.176471, Valor real=3028.000000\n",
            "Valor predito=3388.117647, Valor real=1759.000000\n",
            "Valor predito=3329.529412, Valor real=3595.000000\n",
            "Valor predito=3380.941176, Valor real=4474.000000\n",
            "Valor predito=3470.823529, Valor real=6838.000000\n",
            "Valor predito=3694.470588, Valor real=8357.000000\n",
            "Valor predito=4051.823529, Valor real=3113.000000\n",
            "Valor predito=4104.823529, Valor real=3006.000000\n",
            "Valor predito=4109.764706, Valor real=4047.000000\n",
            "Valor predito=4094.823529, Valor real=3523.000000\n",
            "Valor predito=3963.000000, Valor real=3937.000000\n",
            "Valor predito=3764.470588, Valor real=3986.000000\n",
            "Valor predito=3849.470588, Valor real=3260.000000\n",
            "Valor predito=3895.647059, Valor real=1573.000000\n",
            "Valor predito=3809.882353, Valor real=3528.000000\n",
            "Valor predito=3825.294118, Valor real=5211.000000\n",
            "Valor predito=3909.705882, Valor real=7614.000000\n",
            "Valor predito=4167.588235, Valor real=9254.000000\n",
            "Valor predito=4533.823529, Valor real=5375.000000\n",
            "Valor predito=4746.529412, Valor real=3088.000000\n",
            "Valor predito=4716.705882, Valor real=3718.000000\n",
            "Valor predito=4672.235294, Valor real=4514.000000\n",
            "Valor predito=4535.529412, Valor real=4520.000000\n",
            "Valor predito=4309.823529, Valor real=4539.000000\n",
            "Valor predito=4393.705882, Valor real=3663.000000\n",
            "Valor predito=4432.352941, Valor real=1643.000000\n",
            "Valor predito=4290.941176, Valor real=4739.000000\n",
            "Valor predito=4362.470588, Valor real=5428.000000\n",
            "Valor predito=4450.176471, Valor real=8314.000000\n",
            "Valor predito=4704.764706, Valor real=10651.000000\n",
            "Valor predito=5139.529412, Valor real=3633.000000\n",
            "Valor predito=5260.705882, Valor real=4292.000000\n",
            "Valor predito=5305.647059, Valor real=4154.000000\n",
            "Valor predito=5243.470588, Valor real=4121.000000\n",
            "Valor predito=5038.000000, Valor real=4647.000000\n",
            "Valor predito=4767.000000, Valor real=4753.000000\n",
            "Valor predito=4730.411765, Valor real=3965.000000\n",
            "Valor predito=4782.000000, Valor real=1723.000000\n",
            "Valor predito=4664.647059, Valor real=5048.000000\n",
            "Valor predito=4696.058824, Valor real=6922.000000\n",
            "Valor predito=4837.352941, Valor real=9858.000000\n",
            "Valor predito=5150.235294, Valor real=11331.000000\n",
            "Valor predito=5601.294118, Valor real=4016.000000\n",
            "Valor predito=5740.882353, Valor real=3957.000000\n",
            "Valor predito=5694.882353, Valor real=4510.000000\n",
            "Valor predito=5640.882353, Valor real=4276.000000\n",
            "Valor predito=5403.352941, Valor real=4968.000000\n",
            "Valor predito=5069.058824, Valor real=4677.000000\n",
            "Valor predito=5130.470588, Valor real=3523.000000\n",
            "Valor predito=5085.235294, Valor real=1821.000000\n",
            "Valor predito=4948.000000, Valor real=5222.000000\n",
            "Valor predito=5012.764706, Valor real=6872.000000\n",
            "Valor predito=5143.647059, Valor real=10803.000000\n",
            "Valor predito=5499.529412, Valor real=13916.000000\n",
            "Valor predito=6084.882353, Valor real=2639.000000\n",
            "Valor predito=6138.764706, Valor real=2899.000000\n",
            "Valor predito=6012.352941, Valor real=3370.000000\n",
            "Valor predito=5803.411765, Valor real=3740.000000\n",
            "Valor predito=5443.529412, Valor real=2927.000000\n",
            "Valor predito=4949.176471, Valor real=3986.000000\n",
            "Valor predito=4947.411765, Valor real=4217.000000\n",
            "Valor predito=4962.705882, Valor real=1738.000000\n",
            "Valor predito=4799.647059, Valor real=5221.000000\n",
            "Valor predito=4855.235294, Valor real=6424.000000\n",
            "Valor predito=4940.882353, Valor real=9842.000000\n",
            "Valor predito=5244.705882, Valor real=13076.000000\n",
            "Valor predito=5806.647059, Valor real=3934.000000\n",
            "Valor predito=5930.941176, Valor real=3162.000000\n",
            "Valor predito=5809.764706, Valor real=4286.000000\n",
            "Valor predito=5657.647059, Valor real=4676.000000\n",
            "Valor predito=5297.235294, Valor real=5010.000000\n",
            "Valor predito=4773.352941, Valor real=4874.000000\n",
            "Valor predito=4904.823529, Valor real=4633.000000\n",
            "Valor predito=5006.823529, Valor real=1659.000000\n",
            "Valor predito=4906.176471, Valor real=5951.000000\n",
            "Valor predito=5036.235294, Valor real=6981.000000\n",
            "Valor predito=5274.705882, Valor real=9851.000000\n",
            "Valor predito=5619.705882, Valor real=12670.000000\n",
            "Valor predito=6116.941176, Valor real=4348.000000\n",
            "Valor predito=6270.470588, Valor real=3564.000000\n",
            "Valor predito=6173.000000, Valor real=4577.000000\n",
            "Valor predito=6064.352941, Valor real=4788.000000\n",
            "Valor predito=5767.058824, Valor real=4618.000000\n",
            "Valor predito=5269.529412, Valor real=5312.000000\n",
            "Valor predito=5350.588235, Valor real=4298.000000\n",
            "Valor predito=5417.411765, Valor real=1413.000000\n",
            "Valor predito=5248.411765, Valor real=5877.000000\n"
          ],
          "name": "stdout"
        }
      ]
    },
    {
      "cell_type": "code",
      "metadata": {
        "colab": {
          "base_uri": "https://localhost:8080/"
        },
        "id": "9z4wzihRTjNZ",
        "outputId": "b3a5f63b-d645-492c-9388-862c5b7729f1"
      },
      "source": [
        "# calcula a métrica de rmse\n",
        "rmse_janeladeslizante = sqrt(mean_squared_error(predicoes, test))\n",
        "\n",
        "# imprime o valor de rmse\n",
        "print('Métrica RMSE: %.3f' % rmse_janeladeslizante)\n"
      ],
      "execution_count": 98,
      "outputs": [
        {
          "output_type": "stream",
          "text": [
            "Métrica RMSE: 2695.496\n"
          ],
          "name": "stdout"
        }
      ]
    }
  ]
}